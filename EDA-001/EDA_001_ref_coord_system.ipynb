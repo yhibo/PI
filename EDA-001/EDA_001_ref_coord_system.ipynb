{
 "cells": [
  {
   "cell_type": "markdown",
   "metadata": {},
   "source": [
    "# EDA 001 - Study on reference coordiante system\n",
    "\n",
    "As there are multiple reference systems between SimpleITK, VTK and numpy, one has to be really sure whenever transforming images or fields between them. To that end, I will use a couple of simple examples and then more complicated ones to understand the relationships and mechanisms behind this issue.\n",
    "\n",
    "## Objectives 📋\n",
    "\n",
    "This notebook aims to:\n",
    "- Generate a trivial example of an image and a transformation with numpy\n",
    "- Transform it with SITK to see the difference with their coordinate systems"
   ]
  },
  {
   "cell_type": "markdown",
   "metadata": {},
   "source": [
    "## Imports ⚙️"
   ]
  },
  {
   "cell_type": "code",
   "execution_count": 7,
   "metadata": {},
   "outputs": [],
   "source": [
    "import numpy as np\n",
    "import SimpleITK as sitk\n",
    "from tvtk.api import tvtk\n",
    "import matplotlib.pyplot as plt"
   ]
  },
  {
   "cell_type": "markdown",
   "metadata": {},
   "source": [
    "## Data loading 📈\n",
    "\n",
    "The first experiment we're conducting will consist on a simple example, a centered 16x16 square in a 64x32 image:\n",
    "\n",
    "$$I =\\begin{cases} 1 &\\text{ if }(x,y) \\in [16,32]\\times[16,32]\\\\ 0 &\\text{ otherwise.}\\end{cases}$$\n",
    "\n",
    "with a tranformation given by:\n",
    "\n",
    "$$T(x,y) = (0,5)\\quad \\forall (x,y)\\in I$$\n",
    "\n",
    "This should move the square more in the $y$ direction than in the $x$ direction.\n",
    "\n"
   ]
  },
  {
   "cell_type": "code",
   "execution_count": 8,
   "metadata": {},
   "outputs": [],
   "source": [
    "image = np.zeros((64,32))\n",
    "transform = np.zeros((64,32,2))\n",
    "transform[..., 1] = 5\n",
    "image[16:32, 16:32] = 1\n"
   ]
  },
  {
   "cell_type": "markdown",
   "metadata": {},
   "source": [
    "## Analysis 👨‍🔬\n",
    "\n",
    "Now we will create a _naive_ approach to the transform: we will simply pass our numpy 2D array to SimpleITK to generate a `DisplacementFieldTransform` object."
   ]
  },
  {
   "cell_type": "code",
   "execution_count": 9,
   "metadata": {},
   "outputs": [
    {
     "data": {
      "image/png": "[encoded data removed]",
      "text/plain": [
       "<Figure size 576x576 with 2 Axes>"
      ]
     },
     "metadata": {
      "needs_background": "light"
     },
     "output_type": "display_data"
    }
   ],
   "source": [
    "displacement_image = sitk.GetImageFromArray(transform, isVector=True)\n",
    "sitk_image = sitk.GetImageFromArray(image)\n",
    "tx = sitk.DisplacementFieldTransform(displacement_image)\n",
    "\n",
    "resampler = sitk.ResampleImageFilter()\n",
    "resampler.SetReferenceImage(sitk_image)\n",
    "resampler.SetDefaultPixelValue(0)\n",
    "resampler.SetTransform(tx)\n",
    "regmov = resampler.Execute(sitk_image)\n",
    "\n",
    "fig, axs = plt.subplots(1, 2, figsize=(8,8))\n",
    "axs[0].imshow(image.T)\n",
    "axs[1].imshow(sitk.GetArrayFromImage(regmov).T)\n",
    "plt.show()"
   ]
  },
  {
   "cell_type": "markdown",
   "metadata": {},
   "source": [
    "As we can see, the image is moved mostly in the x-axis, to the negative direction. This means:\n",
    "1. If it's moving in the negative direction, that means it's using some sort of _inverse_ transform, not $F\\to M$, but $M\\to F$.\n",
    "2. The direction must be rotated 90 degrees.\n",
    "\n",
    "To correct this issues, I will try to swap axes and use the inverse transform. In this case it's easy, it's just a minus sign."
   ]
  },
  {
   "cell_type": "code",
   "execution_count": 10,
   "metadata": {},
   "outputs": [],
   "source": [
    "corrected_transform = np.zeros_like(transform)\n",
    "corrected_transform[..., 0] = -transform[..., 1]\n",
    "corrected_transform[..., 1] = -transform[..., 0]"
   ]
  },
  {
   "cell_type": "code",
   "execution_count": 11,
   "metadata": {},
   "outputs": [
    {
     "data": {
      "image/png": "[encoded data removed]",
      "text/plain": [
       "<Figure size 576x576 with 2 Axes>"
      ]
     },
     "metadata": {
      "needs_background": "light"
     },
     "output_type": "display_data"
    }
   ],
   "source": [
    "displacement_image = sitk.GetImageFromArray(corrected_transform, isVector=True)\n",
    "sitk_image = sitk.GetImageFromArray(image)\n",
    "tx = sitk.DisplacementFieldTransform(displacement_image)\n",
    "\n",
    "resampler = sitk.ResampleImageFilter()\n",
    "resampler.SetReferenceImage(sitk_image)\n",
    "resampler.SetDefaultPixelValue(0)\n",
    "resampler.SetTransform(tx)\n",
    "regmov = resampler.Execute(sitk_image)\n",
    "\n",
    "fig, axs = plt.subplots(1, 2, figsize=(8,8))\n",
    "axs[0].imshow(image.T)\n",
    "axs[1].imshow(sitk.GetArrayFromImage(regmov).T)\n",
    "plt.show()"
   ]
  },
  {
   "cell_type": "markdown",
   "metadata": {},
   "source": [
    "Much better! Now we have an upwards-y-axis movement, which is what we expected.\n",
    "\n",
    "## Conclusions 💡\n",
    "- SimpleITK has a not-so-comfortable transform reference system.\n",
    "- It uses a $F\\to M$ transform mechanism.\n",
    "- Axis from Numpy images must be swapped."
   ]
  }
 ],
 "metadata": {
  "interpreter": {
   "hash": "c03dce9fec52df15579ab64a4f88b201a44542b255737e1bdb5784afb86586bf"
  },
  "kernelspec": {
   "display_name": "Python 3.8.12 64-bit ('voxelmorph': conda)",
   "name": "python3"
  },
  "language_info": {
   "codemirror_mode": {
    "name": "ipython",
    "version": 3
   },
   "file_extension": ".py",
   "mimetype": "text/x-python",
   "name": "python",
   "nbconvert_exporter": "python",
   "pygments_lexer": "ipython3",
   "version": "3.8.12"
  },
  "orig_nbformat": 4
 },
 "nbformat": 4,
 "nbformat_minor": 2
}
