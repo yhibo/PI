{
 "cells": [
  {
   "cell_type": "markdown",
   "metadata": {},
   "source": [
    "# EDA 005 - DeepStrain - cMAC results reproduction\n",
    "\n",
    "Now that we _know_ we can run DeepStrain, the next step is reproducing cMAC results with this methodology to see if we're using all the steps and, furthermore, take a leap forward and try it on other databases.\n",
    "\n",
    "## Objectives 📋\n",
    "\n",
    "This analysis has the following goals:\n",
    "- Run DeepStrain on all cMAC patients.\n",
    "- Reproduce results on an already said dataset.\n",
    "- Write a script to reproduce this EDA's results."
   ]
  },
  {
   "cell_type": "markdown",
   "metadata": {},
   "source": [
    "## Imports ⚙️"
   ]
  },
  {
   "cell_type": "code",
   "execution_count": 1,
   "metadata": {},
   "outputs": [
    {
     "ename": "ModuleNotFoundError",
     "evalue": "No module named 'seaborn'",
     "output_type": "error",
     "traceback": [
      "\u001b[0;31m---------------------------------------------------------------------------\u001b[0m",
      "\u001b[0;31mModuleNotFoundError\u001b[0m                       Traceback (most recent call last)",
      "\u001b[1;32m/Users/yhibo/tensorflow-test/notebooks/EDA-005/EDA_005_cMAC_deepstrain.ipynb Cell 3'\u001b[0m in \u001b[0;36m<cell line: 5>\u001b[0;34m()\u001b[0m\n\u001b[1;32m      <a href='vscode-notebook-cell:/Users/yhibo/tensorflow-test/notebooks/EDA-005/EDA_005_cMAC_deepstrain.ipynb#ch0000002?line=2'>3</a>\u001b[0m \u001b[39mimport\u001b[39;00m \u001b[39mnumpy\u001b[39;00m \u001b[39mas\u001b[39;00m \u001b[39mnp\u001b[39;00m\n\u001b[1;32m      <a href='vscode-notebook-cell:/Users/yhibo/tensorflow-test/notebooks/EDA-005/EDA_005_cMAC_deepstrain.ipynb#ch0000002?line=3'>4</a>\u001b[0m \u001b[39mimport\u001b[39;00m \u001b[39mmatplotlib\u001b[39;00m\u001b[39m.\u001b[39;00m\u001b[39mpyplot\u001b[39;00m \u001b[39mas\u001b[39;00m \u001b[39mplt\u001b[39;00m\n\u001b[0;32m----> <a href='vscode-notebook-cell:/Users/yhibo/tensorflow-test/notebooks/EDA-005/EDA_005_cMAC_deepstrain.ipynb#ch0000002?line=4'>5</a>\u001b[0m \u001b[39mimport\u001b[39;00m \u001b[39mseaborn\u001b[39;00m \u001b[39mas\u001b[39;00m \u001b[39msns\u001b[39;00m\n\u001b[1;32m      <a href='vscode-notebook-cell:/Users/yhibo/tensorflow-test/notebooks/EDA-005/EDA_005_cMAC_deepstrain.ipynb#ch0000002?line=5'>6</a>\u001b[0m \u001b[39mfrom\u001b[39;00m \u001b[39mreproduce_cmac\u001b[39;00m \u001b[39mimport\u001b[39;00m (\n\u001b[1;32m      <a href='vscode-notebook-cell:/Users/yhibo/tensorflow-test/notebooks/EDA-005/EDA_005_cMAC_deepstrain.ipynb#ch0000002?line=6'>7</a>\u001b[0m     get_images,\n\u001b[1;32m      <a href='vscode-notebook-cell:/Users/yhibo/tensorflow-test/notebooks/EDA-005/EDA_005_cMAC_deepstrain.ipynb#ch0000002?line=7'>8</a>\u001b[0m     get_segmentation,\n\u001b[0;32m   (...)\u001b[0m\n\u001b[1;32m     <a href='vscode-notebook-cell:/Users/yhibo/tensorflow-test/notebooks/EDA-005/EDA_005_cMAC_deepstrain.ipynb#ch0000002?line=10'>11</a>\u001b[0m     get_motion_error,\n\u001b[1;32m     <a href='vscode-notebook-cell:/Users/yhibo/tensorflow-test/notebooks/EDA-005/EDA_005_cMAC_deepstrain.ipynb#ch0000002?line=11'>12</a>\u001b[0m )\n\u001b[1;32m     <a href='vscode-notebook-cell:/Users/yhibo/tensorflow-test/notebooks/EDA-005/EDA_005_cMAC_deepstrain.ipynb#ch0000002?line=13'>14</a>\u001b[0m \u001b[39m# Constants\u001b[39;00m\n",
      "\u001b[0;31mModuleNotFoundError\u001b[0m: No module named 'seaborn'"
     ]
    }
   ],
   "source": [
    "# Internals of these functions were covered in EDA-004.\n",
    "import pandas as pd\n",
    "import numpy as np\n",
    "import matplotlib.pyplot as plt\n",
    "import seaborn as sns\n",
    "from reproduce_cmac import (\n",
    "    get_images,\n",
    "    get_segmentation,\n",
    "    get_strain_and_motion,\n",
    "    get_strain_values,\n",
    "    get_motion_error,\n",
    ")\n",
    "\n",
    "# Constants\n",
    "DATASET_FOLDER = \"/Users/yhibo/Downloads/MHD_Data\"\n",
    "OUTPUT_FOLDER = os.getcwd()\n",
    "patients = [f\"v{p}\" for p in range(1, 17) if p != 3]\n",
    "es_times = [10, 11, 11, 11, 11, 9, 9, 10, 10, 9, 11, 9, 10, 11, 11]\n",
    "ES = {k: v for (k, v) in zip(patients, es_times)}"
   ]
  },
  {
   "cell_type": "markdown",
   "metadata": {},
   "source": [
    "## Data loading & preprocessing 📈\n",
    "\n",
    "We need to load images from a certain patient of the cMAC/cMAC dataset. To do so:\n",
    "\n",
    "- We load the `.mhd` images for images (and segmentations if we're not using CarSON).\n",
    "- We join them into `.nii` 4d images.\n",
    "- We calculate the segmentations.\n",
    "- We calculate strain and motion.\n"
   ]
  },
  {
   "cell_type": "markdown",
   "metadata": {},
   "source": [
    "### Converting images to Nifti"
   ]
  },
  {
   "cell_type": "code",
   "execution_count": null,
   "metadata": {},
   "outputs": [],
   "source": [
    "# See EDA-004 or reproduce-cmac.py for the internals of this function.\n",
    "get_images(DATASET_FOLDER, OUTPUT_FOLDER, use_our_segs=False)"
   ]
  },
  {
   "cell_type": "markdown",
   "metadata": {},
   "source": [
    "### Segmentation\n",
    "\n",
    "Only needed if we don't want to use the segmentation we already have from other methods.\n",
    "\n",
    "Now that we have our images in the correct format to use them within the DeepStrain workflow, we must run the segmentations on images (grab the ground truth on all of them) and save them to disk, using CarSON.\n",
    "\n"
   ]
  },
  {
   "cell_type": "code",
   "execution_count": null,
   "metadata": {},
   "outputs": [],
   "source": [
    "# See EDA-004 or reproduce-cmac.py for the internals of this function.\n",
    "get_segmentation(OUTPUT_FOLDER)"
   ]
  },
  {
   "cell_type": "markdown",
   "metadata": {},
   "source": [
    "### Motion estimation\n",
    "\n",
    "Once we have the images correctly saved to niftis and segmentations were obtained (either through CarSON or another method, and always saved in the right format) we can run the motion estimation.\n",
    "\n"
   ]
  },
  {
   "cell_type": "code",
   "execution_count": null,
   "metadata": {},
   "outputs": [],
   "source": [
    "# See EDA-004 or reproduce-cmac.py for the internals of this function.\n",
    "get_strain_and_motion(OUTPUT_FOLDER)"
   ]
  },
  {
   "cell_type": "markdown",
   "metadata": {},
   "source": [
    "## Validations ✔️"
   ]
  },
  {
   "cell_type": "markdown",
   "metadata": {},
   "source": [
    "### Segmentation validation\n",
    "\n",
    "To reproduce this results we would need to use ACDC which is outside of this EDA's scope.\n",
    "\n",
    "This is just an skipped test.\n",
    "\n",
    "Result: SKIPPED ⏩"
   ]
  },
  {
   "cell_type": "markdown",
   "metadata": {},
   "source": [
    "### Motion validation\n",
    "\n",
    "To reproduce this results, we must:\n",
    "- Load the landmarks are be able to visualize them and their motion.\n",
    "- Find which material point they belong in the original MRI\n",
    "- Get the displacement of said point in the images and check their endpoint.\n",
    "- Calculate the AEPE (absolute end point error) of the landmark and the image."
   ]
  },
  {
   "cell_type": "markdown",
   "metadata": {},
   "source": [
    "First, we will grab the center that we used to crop the image to (128, 128) pixels. Then, we calculate the index of origin of that subimage in the original image by doing:\n",
    "\n",
    "$$\\mathcal{O}'_{index} = \\text{center}_{index} - \\left< 64, 64, \\text{slices}/2\\right>, $$\n",
    "\n",
    "Once we get the index representing the cropped image we transform it into physical coordinates by multiplying it by the image spacing and adding the image origin:\n",
    "\n",
    "$$\\mathcal{O}' = \\text{round} ( \\mathcal{O}'_{index} \\cdot \\text{spacing}) + \\mathcal{O}$$\n",
    "\n",
    "Now, with this new origin, and the landmark points $\\mathcal{P}_{ED}$, we can obtain the indexes of the displacement field that belong to the landmarks:\n",
    "\n",
    "$$\\Phi_{index} = \\text{round} (\\mathcal{P}_{ED} - \\mathcal{O}') \\cdot \\text{spacing}^{-1}$$\n",
    "\n",
    "Having the transform index, we can obtain the transform and then transform the points, and then measure the error considering only in-plane information:\n",
    "\n",
    "$$\\mathcal{P}_{ES} = \\text{Phi} \\circ \\mathcal{P}_{ED} \\Rightarrow \\text{AEPE} = || P_{ES} - P_{ED} ||_2.$$"
   ]
  },
  {
   "cell_type": "code",
   "execution_count": 16,
   "metadata": {},
   "outputs": [
    {
     "name": "stdout",
     "output_type": "stream",
     "text": [
      "Median AEPE error:  3.259057473652702  ±  2.2285944912004005\n"
     ]
    },
    {
     "data": {
      "image/png": "[encoded data removed]",
      "text/plain": [
       "<Figure size 432x288 with 1 Axes>"
      ]
     },
     "metadata": {
      "needs_background": "light"
     },
     "output_type": "display_data"
    }
   ],
   "source": [
    "errors = get_motion_error(OUTPUT_FOLDER)\n",
    "print(\"Median AEPE error: \", np.median(errors), \" ± \", np.std(errors))\n",
    "ax = sns.violinplot(y=errors)"
   ]
  },
  {
   "cell_type": "code",
   "execution_count": 22,
   "metadata": {},
   "outputs": [
    {
     "data": {
      "text/plain": [
       "{'bodies': [<matplotlib.collections.PolyCollection at 0x2901da790>],\n",
       " 'cmaxes': <matplotlib.collections.LineCollection at 0x28ffee430>,\n",
       " 'cmins': <matplotlib.collections.LineCollection at 0x2901dac40>,\n",
       " 'cbars': <matplotlib.collections.LineCollection at 0x156cac070>}"
      ]
     },
     "execution_count": 22,
     "metadata": {},
     "output_type": "execute_result"
    },
    {
     "data": {
      "image/png": "[encoded data removed]",
      "text/plain": [
       "<Figure size 432x288 with 1 Axes>"
      ]
     },
     "metadata": {
      "needs_background": "light"
     },
     "output_type": "display_data"
    }
   ],
   "source": [
    "plt.violinplot(errors)"
   ]
  },
  {
   "cell_type": "markdown",
   "metadata": {},
   "source": [
    "We can see that although we didn't get the same value they did in the paper, there are some differences listed in their repository that will be further discussed in the Strain validation section that may explain why there's a discrepance. We're at 3.22mm error, vs 2.98mm, with a deviation of 2.18mm vs 1.52mm.\n",
    "\n",
    "Result: PASS  ✔️"
   ]
  },
  {
   "cell_type": "markdown",
   "metadata": {},
   "source": []
  },
  {
   "cell_type": "markdown",
   "metadata": {},
   "source": [
    "### Strain validation\n",
    "\n",
    "Note that the VCN network **is not provided** with DeepStrain code. Therefore, we will _mostly_ reproduce their results and compare with what they achieved in their uploaded notebook.\n",
    "\n"
   ]
  },
  {
   "cell_type": "code",
   "execution_count": 1,
   "metadata": {},
   "outputs": [
    {
     "ename": "NameError",
     "evalue": "name 'pd' is not defined",
     "output_type": "error",
     "traceback": [
      "\u001b[0;31m---------------------------------------------------------------------------\u001b[0m",
      "\u001b[0;31mNameError\u001b[0m                                 Traceback (most recent call last)",
      "\u001b[1;32m/Users/yhibo/tensorflow-test/notebooks/EDA-005/EDA_005_cMAC_deepstrain.ipynb Cell 20'\u001b[0m in \u001b[0;36m<cell line: 2>\u001b[0;34m()\u001b[0m\n\u001b[1;32m      <a href='vscode-notebook-cell:/Users/yhibo/tensorflow-test/notebooks/EDA-005/EDA_005_cMAC_deepstrain.ipynb#ch0000019?line=0'>1</a>\u001b[0m \u001b[39m# This is practically the same as reproduce_cmac.get_strain_values.\u001b[39;00m\n\u001b[0;32m----> <a href='vscode-notebook-cell:/Users/yhibo/tensorflow-test/notebooks/EDA-005/EDA_005_cMAC_deepstrain.ipynb#ch0000019?line=1'>2</a>\u001b[0m results \u001b[39m=\u001b[39m pd\u001b[39m.\u001b[39mDataFrame()\n\u001b[1;32m      <a href='vscode-notebook-cell:/Users/yhibo/tensorflow-test/notebooks/EDA-005/EDA_005_cMAC_deepstrain.ipynb#ch0000019?line=2'>3</a>\u001b[0m theirs \u001b[39m=\u001b[39m \u001b[39mdict\u001b[39m(name\u001b[39m=\u001b[39m\u001b[39m\"\u001b[39m\u001b[39mpaper\u001b[39m\u001b[39m\"\u001b[39m, Err\u001b[39m=\u001b[39m\u001b[39m19.7\u001b[39m, Ecc\u001b[39m=\u001b[39m\u001b[39m-\u001b[39m\u001b[39m15.3\u001b[39m, Srr_d\u001b[39m=\u001b[39m\u001b[39m1.3\u001b[39m, Srr_s\u001b[39m=\u001b[39m\u001b[39m-\u001b[39m\u001b[39m1.4\u001b[39m, Scc_d\u001b[39m=\u001b[39m\u001b[39m-\u001b[39m\u001b[39m1.2\u001b[39m, Scc_s\u001b[39m=\u001b[39m\u001b[39m0.8\u001b[39m)\n\u001b[1;32m      <a href='vscode-notebook-cell:/Users/yhibo/tensorflow-test/notebooks/EDA-005/EDA_005_cMAC_deepstrain.ipynb#ch0000019?line=3'>4</a>\u001b[0m results \u001b[39m=\u001b[39m results\u001b[39m.\u001b[39mappend(theirs, ignore_index\u001b[39m=\u001b[39m\u001b[39mTrue\u001b[39;00m)\n",
      "\u001b[0;31mNameError\u001b[0m: name 'pd' is not defined"
     ]
    }
   ],
   "source": [
    "# This is practically the same as reproduce_cmac.get_strain_values.\n",
    "results = pd.DataFrame()\n",
    "theirs = dict(name=\"paper\", Err=19.7, Ecc=-15.3, Srr_d=1.3, Srr_s=-1.4, Scc_d=-1.2, Scc_s=0.8)\n",
    "results = results.append(theirs, ignore_index=True)\n",
    "results = results.append({\"name\": \"replica\", **get_strain_values(OUTPUT_FOLDER)}, ignore_index=True)\n",
    "results.set_index(\"name\")"
   ]
  },
  {
   "cell_type": "code",
   "execution_count": 1,
   "metadata": {},
   "outputs": [
    {
     "name": "stdout",
     "output_type": "stream",
     "text": [
      "Num GPUs Available:  1\n"
     ]
    }
   ],
   "source": []
  },
  {
   "cell_type": "markdown",
   "metadata": {},
   "source": [
    "We can see that although there are some differences with the paper results, we must understand that:\n",
    "\n",
    "- We did not use their myocardial centering network (VCN) as it is proposed in the paper,\n",
    "- We used an approximation for time resolution to get the strain rate.\n",
    "\n",
    "Moreso, DeepStrain repository gives the same \"warnings\" on their reproducibility notebooks.  This are the same values they arrived at in the cMAC notebook.\n",
    "\n",
    "I will write this one off as \"pass\", with a warning on two beforesaid points.\n",
    "\n",
    "Result: PASS  ✔️"
   ]
  },
  {
   "cell_type": "markdown",
   "metadata": {},
   "source": [
    "## Conclusions 📝\n",
    "\n",
    "We were able to \"pretty much\" reproduce DeepStrain results up to the same precision they had on their repository.\n"
   ]
  }
 ],
 "metadata": {
  "interpreter": {
   "hash": "d2f11a1b3b2efd153b23609826515a5a31b262c2df9ccc9c7b3343b3a6bda7e8"
  },
  "kernelspec": {
   "display_name": "Python 3.8.13 ('pi')",
   "language": "python",
   "name": "python3"
  },
  "language_info": {
   "codemirror_mode": {
    "name": "ipython",
    "version": 3
   },
   "file_extension": ".py",
   "mimetype": "text/x-python",
   "name": "python",
   "nbconvert_exporter": "python",
   "pygments_lexer": "ipython3",
   "version": "3.8.13"
  },
  "orig_nbformat": 4
 },
 "nbformat": 4,
 "nbformat_minor": 2
}
